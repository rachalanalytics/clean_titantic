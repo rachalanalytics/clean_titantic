{
  "nbformat": 4,
  "nbformat_minor": 0,
  "metadata": {
    "colab": {
      "provenance": [],
      "authorship_tag": "ABX9TyPC5fSxfrKyKo+0rqiplUyu",
      "include_colab_link": true
    },
    "kernelspec": {
      "name": "python3",
      "display_name": "Python 3"
    },
    "language_info": {
      "name": "python"
    }
  },
  "cells": [
    {
      "cell_type": "markdown",
      "metadata": {
        "id": "view-in-github",
        "colab_type": "text"
      },
      "source": [
        "<a href=\"https://colab.research.google.com/github/rachalanalytics/clean_titantic/blob/main/Titanic.ipynb\" target=\"_parent\"><img src=\"https://colab.research.google.com/assets/colab-badge.svg\" alt=\"Open In Colab\"/></a>"
      ]
    },
    {
      "cell_type": "code",
      "execution_count": null,
      "metadata": {
        "id": "tjywke-9uVfT"
      },
      "outputs": [],
      "source": [
        "import seaborn as sns\n",
        "import pandas as pd\n",
        "import matplotlib.pyplot as plt\n",
        "\n",
        "# Load Titanic dataset\n",
        "titanic_data = sns.load_dataset('titanic')\n",
        "\n",
        "# Display the first few records\n",
        "print(titanic_data.head())\n",
        "\n",
        "# Review the structure of the dataset\n",
        "print(titanic_data.info())"
      ]
    },
    {
      "cell_type": "code",
      "source": [
        "# Null/Missing values\n",
        "\n",
        "# Check for missing values\n",
        "na_counts = titanic_data.isna().sum()\n",
        "\n",
        "# Filter to show only columns with missing values\n",
        "na_counts = na_counts[na_counts > 0]\n",
        "\n",
        "# Display column names and the counts of missing values\n",
        "print(na_counts)"
      ],
      "metadata": {
        "id": "5Gsve6t0uZbQ"
      },
      "execution_count": null,
      "outputs": []
    },
    {
      "cell_type": "code",
      "source": [
        "# Solution:\n",
        "# We can impute age, given the considerable amount of rows missing and using sex to fill in the median values\n",
        "titanic_data['age'] = titanic_data.groupby(['sex', 'pclass'])['age'].transform(lambda x: x.fillna(x.median()))\n",
        "\n",
        "# Embarked has only 2 missing values and we can fill these using the most frequent value\n",
        "titanic_data['embarked'] = titanic_data['embarked'].fillna(titanic_data['embarked'].mode()[0])\n",
        "\n",
        "# Deck is missing a significant portion of values. This column is not useful to analysis\n",
        "titanic_data = titanic_data.drop('deck', axis=1)\n",
        "\n",
        "# Embarked town has only 2 missing values, we can handle it like the embarked column\n",
        "titanic_data['embark_town'] = titanic_data['embark_town'].fillna(titanic_data['embark_town'].mode()[0])\n",
        "\n",
        "titanic_data.info()"
      ],
      "metadata": {
        "id": "Y_ZdvVbpuaDr"
      },
      "execution_count": null,
      "outputs": []
    },
    {
      "cell_type": "code",
      "source": [
        "# Duplicates\n",
        "duplicates = titanic_data.duplicated()\n",
        "\n",
        "# Find out if there are any duplicates\n",
        "has_duplicates = duplicates.any()\n",
        "print(\"Are there duplicate rows? \", has_duplicates)\n",
        "\n",
        "# Count the total number of duplicate rows\n",
        "num_duplicates = duplicates.sum()\n",
        "print(\"Number of duplicate rows: \", num_duplicates)\n",
        "\n",
        "# Inspect duplicate rows\n",
        "duplicates_data = titanic_data[titanic_data.duplicated()]\n",
        "print(duplicates_data)"
      ],
      "metadata": {
        "id": "N6vFRx2Oubhp"
      },
      "execution_count": null,
      "outputs": []
    },
    {
      "cell_type": "code",
      "source": [
        "# Solution:\n",
        "# Drop all duplicate rows\n",
        "titanic_data = titanic_data.drop_duplicates()\n",
        "\n",
        "# Verify duplicates are removed\n",
        "print(\"Number of duplicate rows after removal: \", titanic_data.duplicated().sum())"
      ],
      "metadata": {
        "id": "sAhMX8GJudmx"
      },
      "execution_count": null,
      "outputs": []
    },
    {
      "cell_type": "code",
      "source": [
        "# Now, lets see if the data values have any inconsistencies in them. We can check each unique value in the columns to determine if more cleaning must be done\n",
        "# Function to find unique values in each column\n",
        "def find_inconsistencies(data):\n",
        "    for column in data.select_dtypes(include=['object', 'category']):\n",
        "        unique_values = data[column].unique()\n",
        "        print(f\"Column: {column}\")\n",
        "        print(f\"Unique Values: {unique_values}\\n\")\n",
        "\n",
        "# Check for inconsistencies\n",
        "find_inconsistencies(titanic_data)"
      ],
      "metadata": {
        "id": "HGEBjXuPuezp"
      },
      "execution_count": null,
      "outputs": []
    },
    {
      "cell_type": "code",
      "source": [
        "# Now, lets check for outliers in the data. We can do this for both categorical data and numeric to see if there are values that appear less frequently, or if there is a very large number\n",
        "\n",
        "# Loop through numerical columns and create a boxplot for each\n",
        "numerical_cols = titanic_data.select_dtypes(include=['float64', 'int64']).columns\n",
        "\n",
        "for col in numerical_cols:\n",
        "    plt.figure(figsize=(6, 3))\n",
        "    sns.boxplot(x=titanic_data[col])\n",
        "    plt.title(f'Boxplot of {col}')\n",
        "    plt.show()"
      ],
      "metadata": {
        "id": "EJNNq4A4ugTK"
      },
      "execution_count": null,
      "outputs": []
    },
    {
      "cell_type": "code",
      "source": [
        "# Fare has an extreme outlier of >500\n",
        "# Check the class of the passengers with fare 500\n",
        "expensive_fare_passenger = titanic_data[titanic_data['fare'] >= 500]\n",
        "print(expensive_fare_passenger)\n",
        "\n",
        "# We see that each client has similar characteristics and is in first class, which can be very expensive. As such, we are leaving this outlier in"
      ],
      "metadata": {
        "id": "-7pUBGTXuhwr"
      },
      "execution_count": null,
      "outputs": []
    },
    {
      "cell_type": "code",
      "source": [
        "# Data is now cleaned\n",
        "\n",
        "# Display the first few records\n",
        "print(titanic_data.head())\n",
        "\n",
        "# Review the structure of the dataset\n",
        "print(titanic_data.info())"
      ],
      "metadata": {
        "id": "xWqsSxd5ujGV"
      },
      "execution_count": null,
      "outputs": []
    }
  ]
}