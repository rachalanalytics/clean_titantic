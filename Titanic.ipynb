{
  "nbformat": 4,
  "nbformat_minor": 0,
  "metadata": {
    "colab": {
      "provenance": [],
      "authorship_tag": "ABX9TyPC5fSxfrKyKo+0rqiplUyu",
      "include_colab_link": true
    },
    "kernelspec": {
      "name": "python3",
      "display_name": "Python 3"
    },
    "language_info": {
      "name": "python"
    }
  },
  "cells": [
    {
      "cell_type": "markdown",
      "metadata": {
        "id": "view-in-github",
        "colab_type": "text"
      },
      "source": [
        "<a href=\"https://colab.research.google.com/github/rachalanalytics/clean_titantic/blob/main/Titanic.ipynb\" target=\"_parent\"><img src=\"https://colab.research.google.com/assets/colab-badge.svg\" alt=\"Open In Colab\"/></a>"
      ]
    },
    {
      "cell_type": "code",
      "execution_count": 1,
      "metadata": {
        "colab": {
          "base_uri": "https://localhost:8080/"
        },
        "id": "tjywke-9uVfT",
        "outputId": "a2e6ecf3-925f-4672-f0df-c04694d48b51"
      },
      "outputs": [
        {
          "output_type": "stream",
          "name": "stdout",
          "text": [
            "   survived  pclass     sex   age  sibsp  parch     fare embarked  class  \\\n",
            "0         0       3    male  22.0      1      0   7.2500        S  Third   \n",
            "1         1       1  female  38.0      1      0  71.2833        C  First   \n",
            "2         1       3  female  26.0      0      0   7.9250        S  Third   \n",
            "3         1       1  female  35.0      1      0  53.1000        S  First   \n",
            "4         0       3    male  35.0      0      0   8.0500        S  Third   \n",
            "\n",
            "     who  adult_male deck  embark_town alive  alone  \n",
            "0    man        True  NaN  Southampton    no  False  \n",
            "1  woman       False    C    Cherbourg   yes  False  \n",
            "2  woman       False  NaN  Southampton   yes   True  \n",
            "3  woman       False    C  Southampton   yes  False  \n",
            "4    man        True  NaN  Southampton    no   True  \n",
            "<class 'pandas.core.frame.DataFrame'>\n",
            "RangeIndex: 891 entries, 0 to 890\n",
            "Data columns (total 15 columns):\n",
            " #   Column       Non-Null Count  Dtype   \n",
            "---  ------       --------------  -----   \n",
            " 0   survived     891 non-null    int64   \n",
            " 1   pclass       891 non-null    int64   \n",
            " 2   sex          891 non-null    object  \n",
            " 3   age          714 non-null    float64 \n",
            " 4   sibsp        891 non-null    int64   \n",
            " 5   parch        891 non-null    int64   \n",
            " 6   fare         891 non-null    float64 \n",
            " 7   embarked     889 non-null    object  \n",
            " 8   class        891 non-null    category\n",
            " 9   who          891 non-null    object  \n",
            " 10  adult_male   891 non-null    bool    \n",
            " 11  deck         203 non-null    category\n",
            " 12  embark_town  889 non-null    object  \n",
            " 13  alive        891 non-null    object  \n",
            " 14  alone        891 non-null    bool    \n",
            "dtypes: bool(2), category(2), float64(2), int64(4), object(5)\n",
            "memory usage: 80.7+ KB\n",
            "None\n"
          ]
        }
      ],
      "source": [
        "import seaborn as sns\n",
        "import pandas as pd\n",
        "import matplotlib.pyplot as plt\n",
        "\n",
        "# Load Titanic dataset\n",
        "titanic_data = sns.load_dataset('titanic')\n",
        "\n",
        "# Display the first few records\n",
        "print(titanic_data.head())\n",
        "\n",
        "# Review the structure of the dataset\n",
        "print(titanic_data.info())"
      ]
    },
    {
      "cell_type": "code",
      "source": [
        "# Null/Missing values\n",
        "\n",
        "# Check for missing values\n",
        "na_counts = titanic_data.isna().sum()\n",
        "\n",
        "# Filter to show only columns with missing values\n",
        "na_counts = na_counts[na_counts > 0]\n",
        "\n",
        "# Display column names and the counts of missing values\n",
        "print(na_counts)"
      ],
      "metadata": {
        "colab": {
          "base_uri": "https://localhost:8080/"
        },
        "id": "5Gsve6t0uZbQ",
        "outputId": "64bfb78b-b1c5-493a-d283-1c233342ab89"
      },
      "execution_count": 2,
      "outputs": [
        {
          "output_type": "stream",
          "name": "stdout",
          "text": [
            "age            177\n",
            "embarked         2\n",
            "deck           688\n",
            "embark_town      2\n",
            "dtype: int64\n"
          ]
        }
      ]
    },
    {
      "cell_type": "code",
      "source": [
        "# Solution:\n",
        "# We can impute age, given the considerable amount of rows missing and using sex to fill in the median values\n",
        "titanic_data['age'] = titanic_data.groupby(['sex', 'pclass'])['age'].transform(lambda x: x.fillna(x.median()))\n",
        "\n",
        "# Embarked has only 2 missing values and we can fill these using the most frequent value\n",
        "titanic_data['embarked'] = titanic_data['embarked'].fillna(titanic_data['embarked'].mode()[0])\n",
        "\n",
        "# Deck is missing a significant portion of values. This column is not useful to analysis\n",
        "titanic_data = titanic_data.drop('deck', axis=1)\n",
        "\n",
        "# Embarked town has only 2 missing values, we can handle it like the embarked column\n",
        "titanic_data['embark_town'] = titanic_data['embark_town'].fillna(titanic_data['embark_town'].mode()[0])\n",
        "\n",
        "titanic_data.info()"
      ],
      "metadata": {
        "colab": {
          "base_uri": "https://localhost:8080/"
        },
        "id": "Y_ZdvVbpuaDr",
        "outputId": "dacfb00f-085b-4111-bd4f-e68f1061c57f"
      },
      "execution_count": 3,
      "outputs": [
        {
          "output_type": "stream",
          "name": "stdout",
          "text": [
            "<class 'pandas.core.frame.DataFrame'>\n",
            "RangeIndex: 891 entries, 0 to 890\n",
            "Data columns (total 14 columns):\n",
            " #   Column       Non-Null Count  Dtype   \n",
            "---  ------       --------------  -----   \n",
            " 0   survived     891 non-null    int64   \n",
            " 1   pclass       891 non-null    int64   \n",
            " 2   sex          891 non-null    object  \n",
            " 3   age          891 non-null    float64 \n",
            " 4   sibsp        891 non-null    int64   \n",
            " 5   parch        891 non-null    int64   \n",
            " 6   fare         891 non-null    float64 \n",
            " 7   embarked     891 non-null    object  \n",
            " 8   class        891 non-null    category\n",
            " 9   who          891 non-null    object  \n",
            " 10  adult_male   891 non-null    bool    \n",
            " 11  embark_town  891 non-null    object  \n",
            " 12  alive        891 non-null    object  \n",
            " 13  alone        891 non-null    bool    \n",
            "dtypes: bool(2), category(1), float64(2), int64(4), object(5)\n",
            "memory usage: 79.4+ KB\n"
          ]
        }
      ]
    },
    {
      "cell_type": "code",
      "source": [
        "# Duplicates\n",
        "duplicates = titanic_data.duplicated()\n",
        "\n",
        "# Find out if there are any duplicates\n",
        "has_duplicates = duplicates.any()\n",
        "print(\"Are there duplicate rows? \", has_duplicates)\n",
        "\n",
        "# Count the total number of duplicate rows\n",
        "num_duplicates = duplicates.sum()\n",
        "print(\"Number of duplicate rows: \", num_duplicates)\n",
        "\n",
        "# Inspect duplicate rows\n",
        "duplicates_data = titanic_data[titanic_data.duplicated()]\n",
        "print(duplicates_data)"
      ],
      "metadata": {
        "colab": {
          "base_uri": "https://localhost:8080/"
        },
        "id": "N6vFRx2Oubhp",
        "outputId": "8ff3645c-d5c0-4b1e-9efa-17f3f2af3b5b"
      },
      "execution_count": 4,
      "outputs": [
        {
          "output_type": "stream",
          "name": "stdout",
          "text": [
            "Are there duplicate rows?  True\n",
            "Number of duplicate rows:  118\n",
            "     survived  pclass     sex   age  sibsp  parch     fare embarked   class  \\\n",
            "47          1       3  female  21.5      0      0   7.7500        Q   Third   \n",
            "64          0       1    male  40.0      0      0  27.7208        C   First   \n",
            "76          0       3    male  25.0      0      0   7.8958        S   Third   \n",
            "77          0       3    male  25.0      0      0   8.0500        S   Third   \n",
            "87          0       3    male  25.0      0      0   8.0500        S   Third   \n",
            "..        ...     ...     ...   ...    ...    ...      ...      ...     ...   \n",
            "870         0       3    male  26.0      0      0   7.8958        S   Third   \n",
            "877         0       3    male  19.0      0      0   7.8958        S   Third   \n",
            "878         0       3    male  25.0      0      0   7.8958        S   Third   \n",
            "884         0       3    male  25.0      0      0   7.0500        S   Third   \n",
            "886         0       2    male  27.0      0      0  13.0000        S  Second   \n",
            "\n",
            "       who  adult_male  embark_town alive  alone  \n",
            "47   woman       False   Queenstown   yes   True  \n",
            "64     man        True    Cherbourg    no   True  \n",
            "76     man        True  Southampton    no   True  \n",
            "77     man        True  Southampton    no   True  \n",
            "87     man        True  Southampton    no   True  \n",
            "..     ...         ...          ...   ...    ...  \n",
            "870    man        True  Southampton    no   True  \n",
            "877    man        True  Southampton    no   True  \n",
            "878    man        True  Southampton    no   True  \n",
            "884    man        True  Southampton    no   True  \n",
            "886    man        True  Southampton    no   True  \n",
            "\n",
            "[118 rows x 14 columns]\n"
          ]
        }
      ]
    },
    {
      "cell_type": "code",
      "source": [
        "# Solution:\n",
        "# Drop all duplicate rows\n",
        "titanic_data = titanic_data.drop_duplicates()\n",
        "\n",
        "# Verify duplicates are removed\n",
        "print(\"Number of duplicate rows after removal: \", titanic_data.duplicated().sum())"
      ],
      "metadata": {
        "colab": {
          "base_uri": "https://localhost:8080/"
        },
        "id": "sAhMX8GJudmx",
        "outputId": "822036d9-f72a-4dcd-bc2f-4ceeaea6c2a7"
      },
      "execution_count": 5,
      "outputs": [
        {
          "output_type": "stream",
          "name": "stdout",
          "text": [
            "Number of duplicate rows after removal:  0\n"
          ]
        }
      ]
    },
    {
      "cell_type": "code",
      "source": [
        "# Now, lets see if the data values have any inconsistencies in them. We can check each unique value in the columns to determine if more cleaning must be done\n",
        "# Function to find unique values in each column\n",
        "def find_inconsistencies(data):\n",
        "    for column in data.select_dtypes(include=['object', 'category']):\n",
        "        unique_values = data[column].unique()\n",
        "        print(f\"Column: {column}\")\n",
        "        print(f\"Unique Values: {unique_values}\\n\")\n",
        "\n",
        "# Check for inconsistencies\n",
        "find_inconsistencies(titanic_data)"
      ],
      "metadata": {
        "colab": {
          "base_uri": "https://localhost:8080/"
        },
        "id": "HGEBjXuPuezp",
        "outputId": "053048eb-d59d-4bb7-b1e8-5e2a98bd00cb"
      },
      "execution_count": 6,
      "outputs": [
        {
          "output_type": "stream",
          "name": "stdout",
          "text": [
            "Column: sex\n",
            "Unique Values: ['male' 'female']\n",
            "\n",
            "Column: embarked\n",
            "Unique Values: ['S' 'C' 'Q']\n",
            "\n",
            "Column: class\n",
            "Unique Values: ['Third', 'First', 'Second']\n",
            "Categories (3, object): ['First', 'Second', 'Third']\n",
            "\n",
            "Column: who\n",
            "Unique Values: ['man' 'woman' 'child']\n",
            "\n",
            "Column: embark_town\n",
            "Unique Values: ['Southampton' 'Cherbourg' 'Queenstown']\n",
            "\n",
            "Column: alive\n",
            "Unique Values: ['no' 'yes']\n",
            "\n"
          ]
        }
      ]
    },
    {
      "cell_type": "code",
      "source": [
        "# Now, lets check for outliers in the data. We can do this for both categorical data and numeric to see if there are values that appear less frequently, or if there is a very large number\n",
        "\n",
        "# Loop through numerical columns and create a boxplot for each\n",
        "numerical_cols = titanic_data.select_dtypes(include=['float64', 'int64']).columns\n",
        "\n",
        "for col in numerical_cols:\n",
        "    plt.figure(figsize=(6, 3))\n",
        "    sns.boxplot(x=titanic_data[col])\n",
        "    plt.title(f'Boxplot of {col}')\n",
        "    plt.show()"
      ],
      "metadata": {
        "colab": {
          "base_uri": "https://localhost:8080/",
          "height": 1000
        },
        "id": "EJNNq4A4ugTK",
        "outputId": "27eec6cd-5ce2-4350-9c0e-78f4891fd8e4"
      },
      "execution_count": 7,
      "outputs": [
        {
          "output_type": "display_data",
          "data": {
            "text/plain": [
              "<Figure size 600x300 with 1 Axes>"
            ],
            "image/png": "[encoded data removed]"
          },
          "metadata": {}
        },
        {
          "output_type": "display_data",
          "data": {
            "text/plain": [
              "<Figure size 600x300 with 1 Axes>"
            ],
            "image/png": "[encoded data removed]"
          },
          "metadata": {}
        },
        {
          "output_type": "display_data",
          "data": {
            "text/plain": [
              "<Figure size 600x300 with 1 Axes>"
            ],
            "image/png": "[encoded data removed]"
          },
          "metadata": {}
        },
        {
          "output_type": "display_data",
          "data": {
            "text/plain": [
              "<Figure size 600x300 with 1 Axes>"
            ],
            "image/png": "[encoded data removed]"
          },
          "metadata": {}
        },
        {
          "output_type": "display_data",
          "data": {
            "text/plain": [
              "<Figure size 600x300 with 1 Axes>"
            ],
            "image/png": "[encoded data removed]"
          },
          "metadata": {}
        },
        {
          "output_type": "display_data",
          "data": {
            "text/plain": [
              "<Figure size 600x300 with 1 Axes>"
            ],
            "image/png": "[encoded data removed]"
          },
          "metadata": {}
        }
      ]
    },
    {
      "cell_type": "code",
      "source": [
        "# Fare has an extreme outlier of >500\n",
        "# Check the class of the passengers with fare 500\n",
        "expensive_fare_passenger = titanic_data[titanic_data['fare'] >= 500]\n",
        "print(expensive_fare_passenger)\n",
        "\n",
        "# We see that each client has similar characteristics and is in first class, which can be very expensive. As such, we are leaving this outlier in"
      ],
      "metadata": {
        "colab": {
          "base_uri": "https://localhost:8080/"
        },
        "id": "-7pUBGTXuhwr",
        "outputId": "b2c11d86-13f4-440c-e832-5b074e232952"
      },
      "execution_count": 8,
      "outputs": [
        {
          "output_type": "stream",
          "name": "stdout",
          "text": [
            "     survived  pclass     sex   age  sibsp  parch      fare embarked  class  \\\n",
            "258         1       1  female  35.0      0      0  512.3292        C  First   \n",
            "679         1       1    male  36.0      0      1  512.3292        C  First   \n",
            "737         1       1    male  35.0      0      0  512.3292        C  First   \n",
            "\n",
            "       who  adult_male embark_town alive  alone  \n",
            "258  woman       False   Cherbourg   yes   True  \n",
            "679    man        True   Cherbourg   yes  False  \n",
            "737    man        True   Cherbourg   yes   True  \n"
          ]
        }
      ]
    },
    {
      "cell_type": "code",
      "source": [
        "# Data is now cleaned\n",
        "\n",
        "# Display the first few records\n",
        "print(titanic_data.head())\n",
        "\n",
        "# Review the structure of the dataset\n",
        "print(titanic_data.info())"
      ],
      "metadata": {
        "colab": {
          "base_uri": "https://localhost:8080/"
        },
        "id": "xWqsSxd5ujGV",
        "outputId": "6c9cb0b5-077e-42be-a5a0-af2d5df7fd0b"
      },
      "execution_count": 9,
      "outputs": [
        {
          "output_type": "stream",
          "name": "stdout",
          "text": [
            "   survived  pclass     sex   age  sibsp  parch     fare embarked  class  \\\n",
            "0         0       3    male  22.0      1      0   7.2500        S  Third   \n",
            "1         1       1  female  38.0      1      0  71.2833        C  First   \n",
            "2         1       3  female  26.0      0      0   7.9250        S  Third   \n",
            "3         1       1  female  35.0      1      0  53.1000        S  First   \n",
            "4         0       3    male  35.0      0      0   8.0500        S  Third   \n",
            "\n",
            "     who  adult_male  embark_town alive  alone  \n",
            "0    man        True  Southampton    no  False  \n",
            "1  woman       False    Cherbourg   yes  False  \n",
            "2  woman       False  Southampton   yes   True  \n",
            "3  woman       False  Southampton   yes  False  \n",
            "4    man        True  Southampton    no   True  \n",
            "<class 'pandas.core.frame.DataFrame'>\n",
            "Index: 773 entries, 0 to 890\n",
            "Data columns (total 14 columns):\n",
            " #   Column       Non-Null Count  Dtype   \n",
            "---  ------       --------------  -----   \n",
            " 0   survived     773 non-null    int64   \n",
            " 1   pclass       773 non-null    int64   \n",
            " 2   sex          773 non-null    object  \n",
            " 3   age          773 non-null    float64 \n",
            " 4   sibsp        773 non-null    int64   \n",
            " 5   parch        773 non-null    int64   \n",
            " 6   fare         773 non-null    float64 \n",
            " 7   embarked     773 non-null    object  \n",
            " 8   class        773 non-null    category\n",
            " 9   who          773 non-null    object  \n",
            " 10  adult_male   773 non-null    bool    \n",
            " 11  embark_town  773 non-null    object  \n",
            " 12  alive        773 non-null    object  \n",
            " 13  alone        773 non-null    bool    \n",
            "dtypes: bool(2), category(1), float64(2), int64(4), object(5)\n",
            "memory usage: 74.9+ KB\n",
            "None\n"
          ]
        }
      ]
    }
  ]
}